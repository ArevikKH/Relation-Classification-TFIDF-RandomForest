{
  "nbformat": 4,
  "nbformat_minor": 0,
  "metadata": {
    "colab": {
      "provenance": [],
      "gpuType": "T4"
    },
    "kernelspec": {
      "name": "python3",
      "display_name": "Python 3"
    },
    "language_info": {
      "name": "python"
    },
    "accelerator": "GPU"
  },
  "cells": [
    {
      "cell_type": "code",
      "source": [
        "!gdown 1pfEk77qsvzQKtUYi1h-eG--zbQcONcLH"
      ],
      "metadata": {
        "colab": {
          "base_uri": "https://localhost:8080/"
        },
        "id": "SIWoU-dxg4Ed",
        "outputId": "4763937e-45ca-4a79-bbcf-bf2c7cd215e0"
      },
      "execution_count": null,
      "outputs": [
        {
          "output_type": "stream",
          "name": "stdout",
          "text": [
            "Downloading...\n",
            "From: https://drive.google.com/uc?id=1pfEk77qsvzQKtUYi1h-eG--zbQcONcLH\n",
            "To: /content/TRAIN_FILE.TXT\n",
            "\r  0% 0.00/1.40M [00:00<?, ?B/s]\r100% 1.40M/1.40M [00:00<00:00, 134MB/s]\n"
          ]
        }
      ]
    },
    {
      "cell_type": "code",
      "source": [
        "import re\n",
        "import numpy as np\n",
        "from sklearn.model_selection import train_test_split\n",
        "from sklearn.feature_extraction.text import TfidfVectorizer\n",
        "from sklearn.ensemble import RandomForestClassifier\n",
        "from sklearn.metrics import classification_report\n",
        "\n",
        "\n",
        "def preprocess_data(file_path):\n",
        "    sentences = []\n",
        "    labels = []\n",
        "\n",
        "    with open(file_path, 'r', encoding='utf-8') as file:\n",
        "        content = file.readlines()\n",
        "\n",
        "    for i in range(0, len(content), 4):\n",
        "        sentence_line = content[i].strip()\n",
        "        label_line = content[i + 1].strip()\n",
        "\n",
        "        sentence = re.sub(r'^\\d+\\t\\\"(.*)\\\"$', r'\\1', sentence_line)\n",
        "        sentence = sentence.replace('<e1>', ' [E1] ').replace('</e1>', ' [/E1] ')\n",
        "        sentence = sentence.replace('<e2>', ' [E2] ').replace('</e2>', ' [/E2] ')\n",
        "        sentence = re.sub(r'[\\W_]+', ' ', sentence.lower())\n",
        "\n",
        "        sentences.append(sentence)\n",
        "        labels.append(label_line)\n",
        "\n",
        "    return sentences, labels\n",
        "\n",
        "train_file_path = '/content/TRAIN_FILE.TXT'\n",
        "\n",
        "sentences, labels = preprocess_data(train_file_path)\n",
        "\n",
        "vectorizer = TfidfVectorizer(max_features=5000)\n",
        "X = vectorizer.fit_transform(sentences).toarray()\n",
        "\n",
        "unique_labels = sorted(list(set(labels)))\n",
        "label_to_id = {label: idx for idx, label in enumerate(unique_labels)}\n",
        "id_to_label = {idx: label for label, idx in label_to_id.items()}\n",
        "y = np.array([label_to_id[label] for label in labels])\n",
        "\n",
        "X_train, X_test, y_train, y_test = train_test_split(X, y, test_size=0.2, random_state=42)\n",
        "classifier = RandomForestClassifier(n_estimators=100, class_weight='balanced', random_state=42)\n",
        "classifier.fit(X_train, y_train)\n",
        "y_pred = classifier.predict(X_test)\n",
        "report = classification_report(y_test, y_pred, labels=list(range(len(unique_labels))), target_names=unique_labels, zero_division=0)\n",
        "print(report)\n",
        "\n",
        "def predict_relationship(sentence, top_k=3):\n",
        "    if '<e1>' in sentence and '<e2>' in sentence:\n",
        "        normalized_sentence = sentence.replace('<e1>', ' [E1] ').replace('</e1>', ' [/E1] ')\n",
        "        normalized_sentence = normalized_sentence.replace('<e2>', ' [E2] ').replace('</e2>', ' [/E2] ')\n",
        "    else:\n",
        "        words = sentence.split()\n",
        "        tfidf_scores = vectorizer.transform([sentence]).toarray()[0]\n",
        "        word_scores = {word: tfidf_scores[vectorizer.vocabulary_.get(word.lower(), 0)] for word in words}\n",
        "        sorted_words = sorted(word_scores.items(), key=lambda x: x[1], reverse=True)\n",
        "\n",
        "        e1_text = sorted_words[0][0] if len(sorted_words) > 0 else \"Unknown\"\n",
        "        e2_text = sorted_words[1][0] if len(sorted_words) > 1 else \"Unknown\"\n",
        "\n",
        "        normalized_sentence = sentence.replace(e1_text, ' [E1] ', 1).replace(e2_text, ' [E2] ', 1)\n",
        "\n",
        "    normalized_sentence = re.sub(r'[\\W_]+', ' ', normalized_sentence.lower())\n",
        "    features = vectorizer.transform([normalized_sentence]).toarray()\n",
        "    probabilities = classifier.predict_proba(features)[0]\n",
        "\n",
        "    top_k_indices = probabilities.argsort()[-top_k:][::-1]\n",
        "    top_k_labels = [(id_to_label[idx], probabilities[idx]) for idx in top_k_indices]\n",
        "\n",
        "    return {\n",
        "        \"e1\": e1_text,\n",
        "        \"e2\": e2_text,\n",
        "        \"predictions\": top_k_labels\n",
        "    }\n",
        "\n",
        "example_sentence = \"Cats don't taste sweetness\"\n",
        "result = predict_relationship(example_sentence)\n",
        "\n",
        "print(\"Example sentence:\")\n",
        "print(\"Cats don't taste sweetness\")\n",
        "print(\" \")\n",
        "print(\"Extracted Entities:\")\n",
        "print(f\"e1: {result['e1']}\")\n",
        "print(f\"e2: {result['e2']}\")\n",
        "print(\" \")\n",
        "print(\"Predicted Relationships:\")\n",
        "for label, prob in result['predictions']:\n",
        "    print(f\"{label}: {prob:.2f}\")\n"
      ],
      "metadata": {
        "colab": {
          "base_uri": "https://localhost:8080/"
        },
        "id": "DutP7nvBJC3d",
        "outputId": "b443b050-6cac-4226-811d-6ae3c0c15769"
      },
      "execution_count": null,
      "outputs": [
        {
          "output_type": "stream",
          "name": "stdout",
          "text": [
            "                           precision    recall  f1-score   support\n",
            "\n",
            "      Cause-Effect(e1,e2)       0.91      0.64      0.75        61\n",
            "      Cause-Effect(e2,e1)       0.72      0.51      0.60       138\n",
            "   Component-Whole(e1,e2)       0.37      0.21      0.27       100\n",
            "   Component-Whole(e2,e1)       0.56      0.09      0.16        97\n",
            " Content-Container(e1,e2)       0.70      0.62      0.66        88\n",
            " Content-Container(e2,e1)       0.71      0.52      0.60        42\n",
            "Entity-Destination(e1,e2)       0.67      0.87      0.75       158\n",
            "Entity-Destination(e2,e1)       0.00      0.00      0.00         0\n",
            "     Entity-Origin(e1,e2)       0.34      0.72      0.46       107\n",
            "     Entity-Origin(e2,e1)       0.83      0.17      0.29        29\n",
            " Instrument-Agency(e1,e2)       0.33      0.07      0.12        14\n",
            " Instrument-Agency(e2,e1)       0.67      0.26      0.37        85\n",
            " Member-Collection(e1,e2)       1.00      0.12      0.21        17\n",
            " Member-Collection(e2,e1)       0.34      0.45      0.39       119\n",
            "     Message-Topic(e1,e2)       0.55      0.06      0.11       103\n",
            "     Message-Topic(e2,e1)       0.50      0.10      0.17        29\n",
            "                    Other       0.22      0.51      0.31       260\n",
            "  Product-Producer(e1,e2)       0.57      0.18      0.28        66\n",
            "  Product-Producer(e2,e1)       1.00      0.02      0.04        87\n",
            "\n",
            "                 accuracy                           0.42      1600\n",
            "                macro avg       0.58      0.32      0.34      1600\n",
            "             weighted avg       0.55      0.42      0.39      1600\n",
            "\n",
            "Example sentence:\n",
            "Cats don't taste sweetness\n",
            " \n",
            "Extracted Entities:\n",
            "e1: Cats\n",
            "e2: taste\n",
            " \n",
            "Predicted Relationships:\n",
            "Other: 0.51\n",
            "Entity-Destination(e1,e2): 0.23\n",
            "Instrument-Agency(e2,e1): 0.09\n"
          ]
        }
      ]
    }
  ]
}